{
 "cells": [
  {
   "cell_type": "markdown",
   "id": "b2c1c733",
   "metadata": {},
   "source": [
    "# FT MLOPS Challenge - Part 1"
   ]
  },
  {
   "cell_type": "markdown",
   "id": "352d9663",
   "metadata": {},
   "source": [
    "<p><strong>Objective:</strong> Train XGB, SVM and Random forest models. \n",
    "<br><br><strong>Main Steps:</strong></p>\n",
    "<ol>\n",
    "<li>Understand the data.</li>\n",
    "<li>Calculate the desired features from the available features. According to the representation in pdf file.</li>\n",
    "<li>Train 3 different models from the given dataset.</li>\n",
    "<li>Save the model artifacts.</li>\n",
    "</ol> "
   ]
  },
  {
   "cell_type": "code",
   "execution_count": 1,
   "id": "210989be",
   "metadata": {
    "vscode": {
     "languageId": "python"
    }
   },
   "outputs": [],
   "source": [
    "## Import libraries\n",
    "import pandas as pd\n",
    "import numpy as np\n",
    "import pandas as pd\n",
    "from sklearn import svm\n",
    "from sklearn.ensemble import RandomForestClassifier\n",
    "import xgboost as xgb\n",
    "import pickle\n",
    "import joblib\n",
    "from sklearn import svm\n",
    "import xgboost as xgb\n",
    "from sklearn.svm import SVC"
   ]
  },
  {
   "cell_type": "markdown",
   "id": "ac1db2dc",
   "metadata": {},
   "source": [
    "# Data Preprocessing"
   ]
  },
  {
   "cell_type": "code",
   "execution_count": 2,
   "id": "66dd10e4",
   "metadata": {
    "vscode": {
     "languageId": "python"
    }
   },
   "outputs": [],TF
   "source": [
    "dataset = \"../data/Train_keystroke.csv\""
   ]
  },
  {
   "cell_type": "code",
   "execution_count": 3,
   "id": "d269e740",
   "metadata": {
    "vscode": {
     "languageId": "python"
    }
   },
   "outputs": [],
   "source": [
    "# Load dataset into dataframe\n",
    "df = pd.read_csv(dataset)\n",
    "# Put columns into a list, later this will be needed while dropping the features from the df.\n",
    "# \n",
    "columns = df.columns.tolist()"
   ]
  },
  {
   "cell_type": "code",
   "execution_count": 4,
   "id": "6b0766b2",
   "metadata": {
    "vscode": {
     "languageId": "python"
    }
   },
   "outputs": [
    {
     "data": {
      "text/plain": [
       "['user',\n",
       " 'press-0',\n",
       " 'release-0',\n",
       " 'press-1',\n",
       " 'release-1',\n",
       " 'press-2',\n",
       " 'release-2',\n",
       " 'press-3',\n",
       " 'release-3',\n",
       " 'press-4',\n",
       " 'release-4',\n",
       " 'press-5',\n",
       " 'release-5',\n",
       " 'press-6',\n",
       " 'release-6',\n",
       " 'press-7',\n",
       " 'release-7',\n",
       " 'press-8',\n",
       " 'release-8',\n",
       " 'press-9',\n",
       " 'release-9',\n",
       " 'press-10',\n",
       " 'release-10',\n",
       " 'press-11',\n",
       " 'release-11',\n",
       " 'press-12',\n",
       " 'release-12']"
      ]
     },
     "execution_count": 4,
     "metadata": {},
     "output_type": "execute_result"
    }
   ],
   "source": [
    "columns"
   ]
  },
  {
   "cell_type": "code",
   "execution_count": 5,
   "id": "373c0381",
   "metadata": {
    "vscode": {
     "languageId": "python"
    }
   },
   "outputs": [
    {
     "name": "stdout",
     "output_type": "stream",
     "text": [
      "<class 'pandas.core.frame.DataFrame'>\n",
      "RangeIndex: 880 entries, 0 to 879\n",
      "Data columns (total 27 columns):\n",
      " #   Column      Non-Null Count  Dtype\n",
      "---  ------      --------------  -----\n",
      " 0   user        880 non-null    int64\n",
      " 1   press-0     880 non-null    int64\n",
      " 2   release-0   880 non-null    int64\n",
      " 3   press-1     880 non-null    int64\n",
      " 4   release-1   880 non-null    int64\n",
      " 5   press-2     880 non-null    int64\n",
      " 6   release-2   880 non-null    int64\n",
      " 7   press-3     880 non-null    int64\n",
      " 8   release-3   880 non-null    int64\n",
      " 9   press-4     880 non-null    int64\n",
      " 10  release-4   880 non-null    int64\n",
      " 11  press-5     880 non-null    int64\n",
      " 12  release-5   880 non-null    int64\n",
      " 13  press-6     880 non-null    int64\n",
      " 14  release-6   880 non-null    int64\n",
      " 15  press-7     880 non-null    int64\n",
      " 16  release-7   880 non-null    int64\n",
      " 17  press-8     880 non-null    int64\n",
      " 18  release-8   880 non-null    int64\n",
      " 19  press-9     880 non-null    int64\n",
      " 20  release-9   880 non-null    int64\n",
      " 21  press-10    880 non-null    int64\n",
      " 22  release-10  880 non-null    int64\n",
      " 23  press-11    880 non-null    int64\n",
      " 24  release-11  880 non-null    int64\n",
      " 25  press-12    880 non-null    int64\n",
      " 26  release-12  880 non-null    int64\n",
      "dtypes: int64(27)\n",
      "memory usage: 185.8 KB\n"
     ]
    }
   ],
   "source": [
    "# Check the data we have in hand.\n",
    "df.info()"
   ]
  },
  {
   "cell_type": "code",
   "execution_count": 6,
   "id": "5d0ae28b",
   "metadata": {
    "vscode": {
     "languageId": "python"
    }
   },
   "outputs": [
    {
     "data": {
      "text/html": [
       "<div>\n",
       "<style scoped>\n",
       "    .dataframe tbody tr th:only-of-type {\n",
       "        vertical-align: middle;\n",
       "    }\n",
       "\n",
       "    .dataframe tbody tr th {\n",
       "        vertical-align: top;\n",
       "    }\n",
       "\n",
       "    .dataframe thead th {\n",
       "        text-align: right;\n",
       "    }\n",
       "</style>\n",
       "<table border=\"1\" class=\"dataframe\">\n",
       "  <thead>\n",
       "    <tr style=\"text-align: right;\">\n",
       "      <th></th>\n",
       "      <th>user</th>\n",
       "      <th>press-0</th>\n",
       "      <th>release-0</th>\n",
       "      <th>press-1</th>\n",
       "      <th>release-1</th>\n",
       "      <th>press-2</th>\n",
       "      <th>release-2</th>\n",
       "      <th>press-3</th>\n",
       "      <th>release-3</th>\n",
       "      <th>press-4</th>\n",
       "      <th>...</th>\n",
       "      <th>press-8</th>\n",
       "      <th>release-8</th>\n",
       "      <th>press-9</th>\n",
       "      <th>release-9</th>\n",
       "      <th>press-10</th>\n",
       "      <th>release-10</th>\n",
       "      <th>press-11</th>\n",
       "      <th>release-11</th>\n",
       "      <th>press-12</th>\n",
       "      <th>release-12</th>\n",
       "    </tr>\n",
       "  </thead>\n",
       "  <tbody>\n",
       "    <tr>\n",
       "      <th>0</th>\n",
       "      <td>1</td>\n",
       "      <td>0</td>\n",
       "      <td>120</td>\n",
       "      <td>216</td>\n",
       "      <td>312</td>\n",
       "      <td>424</td>\n",
       "      <td>496</td>\n",
       "      <td>592</td>\n",
       "      <td>664</td>\n",
       "      <td>808</td>\n",
       "      <td>...</td>\n",
       "      <td>1712</td>\n",
       "      <td>1760</td>\n",
       "      <td>1992</td>\n",
       "      <td>2064</td>\n",
       "      <td>2376</td>\n",
       "      <td>2448</td>\n",
       "      <td>2584</td>\n",
       "      <td>2632</td>\n",
       "      <td>2752</td>\n",
       "      <td>2824</td>\n",
       "    </tr>\n",
       "    <tr>\n",
       "      <th>1</th>\n",
       "      <td>1</td>\n",
       "      <td>0</td>\n",
       "      <td>95</td>\n",
       "      <td>168</td>\n",
       "      <td>265</td>\n",
       "      <td>360</td>\n",
       "      <td>455</td>\n",
       "      <td>527</td>\n",
       "      <td>599</td>\n",
       "      <td>736</td>\n",
       "      <td>...</td>\n",
       "      <td>1423</td>\n",
       "      <td>1471</td>\n",
       "      <td>1664</td>\n",
       "      <td>1711</td>\n",
       "      <td>1880</td>\n",
       "      <td>1952</td>\n",
       "      <td>2039</td>\n",
       "      <td>2111</td>\n",
       "      <td>2231</td>\n",
       "      <td>2279</td>\n",
       "    </tr>\n",
       "    <tr>\n",
       "      <th>2</th>\n",
       "      <td>1</td>\n",
       "      <td>0</td>\n",
       "      <td>71</td>\n",
       "      <td>143</td>\n",
       "      <td>231</td>\n",
       "      <td>783</td>\n",
       "      <td>903</td>\n",
       "      <td>1087</td>\n",
       "      <td>1159</td>\n",
       "      <td>1351</td>\n",
       "      <td>...</td>\n",
       "      <td>2039</td>\n",
       "      <td>2111</td>\n",
       "      <td>2271</td>\n",
       "      <td>2343</td>\n",
       "      <td>2487</td>\n",
       "      <td>2559</td>\n",
       "      <td>2679</td>\n",
       "      <td>2751</td>\n",
       "      <td>2871</td>\n",
       "      <td>2926</td>\n",
       "    </tr>\n",
       "    <tr>\n",
       "      <th>3</th>\n",
       "      <td>1</td>\n",
       "      <td>0</td>\n",
       "      <td>95</td>\n",
       "      <td>144</td>\n",
       "      <td>263</td>\n",
       "      <td>353</td>\n",
       "      <td>431</td>\n",
       "      <td>760</td>\n",
       "      <td>832</td>\n",
       "      <td>1159</td>\n",
       "      <td>...</td>\n",
       "      <td>3151</td>\n",
       "      <td>3223</td>\n",
       "      <td>3415</td>\n",
       "      <td>3463</td>\n",
       "      <td>3631</td>\n",
       "      <td>3703</td>\n",
       "      <td>3815</td>\n",
       "      <td>3887</td>\n",
       "      <td>3983</td>\n",
       "      <td>4055</td>\n",
       "    </tr>\n",
       "    <tr>\n",
       "      <th>4</th>\n",
       "      <td>1</td>\n",
       "      <td>0</td>\n",
       "      <td>70</td>\n",
       "      <td>166</td>\n",
       "      <td>238</td>\n",
       "      <td>310</td>\n",
       "      <td>406</td>\n",
       "      <td>526</td>\n",
       "      <td>598</td>\n",
       "      <td>710</td>\n",
       "      <td>...</td>\n",
       "      <td>1310</td>\n",
       "      <td>1382</td>\n",
       "      <td>1543</td>\n",
       "      <td>1605</td>\n",
       "      <td>1734</td>\n",
       "      <td>1806</td>\n",
       "      <td>1926</td>\n",
       "      <td>1998</td>\n",
       "      <td>2086</td>\n",
       "      <td>2182</td>\n",
       "    </tr>\n",
       "    <tr>\n",
       "      <th>5</th>\n",
       "      <td>1</td>\n",
       "      <td>0</td>\n",
       "      <td>72</td>\n",
       "      <td>144</td>\n",
       "      <td>240</td>\n",
       "      <td>312</td>\n",
       "      <td>413</td>\n",
       "      <td>520</td>\n",
       "      <td>591</td>\n",
       "      <td>712</td>\n",
       "      <td>...</td>\n",
       "      <td>1522</td>\n",
       "      <td>1567</td>\n",
       "      <td>1770</td>\n",
       "      <td>1807</td>\n",
       "      <td>1968</td>\n",
       "      <td>2039</td>\n",
       "      <td>2160</td>\n",
       "      <td>2231</td>\n",
       "      <td>2352</td>\n",
       "      <td>2423</td>\n",
       "    </tr>\n",
       "    <tr>\n",
       "      <th>6</th>\n",
       "      <td>1</td>\n",
       "      <td>0</td>\n",
       "      <td>95</td>\n",
       "      <td>143</td>\n",
       "      <td>240</td>\n",
       "      <td>335</td>\n",
       "      <td>423</td>\n",
       "      <td>592</td>\n",
       "      <td>663</td>\n",
       "      <td>807</td>\n",
       "      <td>...</td>\n",
       "      <td>1615</td>\n",
       "      <td>1696</td>\n",
       "      <td>1847</td>\n",
       "      <td>1895</td>\n",
       "      <td>2063</td>\n",
       "      <td>2135</td>\n",
       "      <td>2255</td>\n",
       "      <td>2327</td>\n",
       "      <td>2423</td>\n",
       "      <td>2495</td>\n",
       "    </tr>\n",
       "    <tr>\n",
       "      <th>7</th>\n",
       "      <td>1</td>\n",
       "      <td>0</td>\n",
       "      <td>74</td>\n",
       "      <td>144</td>\n",
       "      <td>240</td>\n",
       "      <td>312</td>\n",
       "      <td>376</td>\n",
       "      <td>473</td>\n",
       "      <td>544</td>\n",
       "      <td>688</td>\n",
       "      <td>...</td>\n",
       "      <td>1424</td>\n",
       "      <td>1518</td>\n",
       "      <td>1664</td>\n",
       "      <td>1712</td>\n",
       "      <td>1872</td>\n",
       "      <td>1968</td>\n",
       "      <td>2091</td>\n",
       "      <td>2160</td>\n",
       "      <td>2280</td>\n",
       "      <td>2328</td>\n",
       "    </tr>\n",
       "    <tr>\n",
       "      <th>8</th>\n",
       "      <td>2</td>\n",
       "      <td>0</td>\n",
       "      <td>88</td>\n",
       "      <td>233</td>\n",
       "      <td>352</td>\n",
       "      <td>328</td>\n",
       "      <td>448</td>\n",
       "      <td>496</td>\n",
       "      <td>616</td>\n",
       "      <td>568</td>\n",
       "      <td>...</td>\n",
       "      <td>1184</td>\n",
       "      <td>1304</td>\n",
       "      <td>1305</td>\n",
       "      <td>1450</td>\n",
       "      <td>1400</td>\n",
       "      <td>1536</td>\n",
       "      <td>1489</td>\n",
       "      <td>1610</td>\n",
       "      <td>1705</td>\n",
       "      <td>1800</td>\n",
       "    </tr>\n",
       "    <tr>\n",
       "      <th>9</th>\n",
       "      <td>2</td>\n",
       "      <td>0</td>\n",
       "      <td>96</td>\n",
       "      <td>192</td>\n",
       "      <td>336</td>\n",
       "      <td>288</td>\n",
       "      <td>432</td>\n",
       "      <td>432</td>\n",
       "      <td>520</td>\n",
       "      <td>472</td>\n",
       "      <td>...</td>\n",
       "      <td>1160</td>\n",
       "      <td>1280</td>\n",
       "      <td>1256</td>\n",
       "      <td>1404</td>\n",
       "      <td>1383</td>\n",
       "      <td>1497</td>\n",
       "      <td>1424</td>\n",
       "      <td>1544</td>\n",
       "      <td>1664</td>\n",
       "      <td>1760</td>\n",
       "    </tr>\n",
       "  </tbody>\n",
       "</table>\n",
       "<p>10 rows × 27 columns</p>\n",
       "</div>"
      ],
      "text/plain": [
       "   user  press-0  release-0  press-1  release-1  press-2  release-2  press-3  \\\n",
       "0     1        0        120      216        312      424        496      592   \n",
       "1     1        0         95      168        265      360        455      527   \n",
       "2     1        0         71      143        231      783        903     1087   \n",
       "3     1        0         95      144        263      353        431      760   \n",
       "4     1        0         70      166        238      310        406      526   \n",
       "5     1        0         72      144        240      312        413      520   \n",
       "6     1        0         95      143        240      335        423      592   \n",
       "7     1        0         74      144        240      312        376      473   \n",
       "8     2        0         88      233        352      328        448      496   \n",
       "9     2        0         96      192        336      288        432      432   \n",
       "\n",
       "   release-3  press-4  ...  press-8  release-8  press-9  release-9  press-10  \\\n",
       "0        664      808  ...     1712       1760     1992       2064      2376   \n",
       "1        599      736  ...     1423       1471     1664       1711      1880   \n",
       "2       1159     1351  ...     2039       2111     2271       2343      2487   \n",
       "3        832     1159  ...     3151       3223     3415       3463      3631   \n",
       "4        598      710  ...     1310       1382     1543       1605      1734   \n",
       "5        591      712  ...     1522       1567     1770       1807      1968   \n",
       "6        663      807  ...     1615       1696     1847       1895      2063   \n",
       "7        544      688  ...     1424       1518     1664       1712      1872   \n",
       "8        616      568  ...     1184       1304     1305       1450      1400   \n",
       "9        520      472  ...     1160       1280     1256       1404      1383   \n",
       "\n",
       "   release-10  press-11  release-11  press-12  release-12  \n",
       "0        2448      2584        2632      2752        2824  \n",
       "1        1952      2039        2111      2231        2279  \n",
       "2        2559      2679        2751      2871        2926  \n",
       "3        3703      3815        3887      3983        4055  \n",
       "4        1806      1926        1998      2086        2182  \n",
       "5        2039      2160        2231      2352        2423  \n",
       "6        2135      2255        2327      2423        2495  \n",
       "7        1968      2091        2160      2280        2328  \n",
       "8        1536      1489        1610      1705        1800  \n",
       "9        1497      1424        1544      1664        1760  \n",
       "\n",
       "[10 rows x 27 columns]"
      ]
     },
     "execution_count": 6,
     "metadata": {},
     "output_type": "execute_result"
    }
   ],
   "source": [
    "df.head(10)"
   ]
  },
  {
   "cell_type": "code",
   "execution_count": 8,
   "id": "00cd528d",
   "metadata": {
    "vscode": {
     "languageId": "python"
    }
   },
   "outputs": [],
   "source": [
    "# Pop the user column\n",
    "columns.pop(0)\n",
    "HT, PP, RR, RP = [], [], [], []\n",
    "Mean_HT, Mean_PP, Mean_RR, Mean_RP = [], [], [], []\n",
    "Std_HT, Std_PP, Std_RR, Std_RP = [], [], [], []\n",
    "\n",
    "# Iterate through the rows of the df, calculate the desired metrics according to the pdf.\n",
    "# Since we have 13 words, range of our for internal for loop is 12 (0-12) 0 included.\n",
    "for _, row in df.iterrows():\n",
    "    # Calculate the features for each row, later(end of the iteration) this metrics will be added \n",
    "    # into a main list where we hold all the statistics about every user\n",
    "    hold_time = [row[f\"release-{i}\"] - row[f\"press-{i}\"] for i in range(12)]\n",
    "    press_press_time = [row[f\"release-{i+1}\"] - row[f\"press-{i}\"] for i in range(12)]\n",
    "    release_release_time = [row[f\"release-{i+1}\"] - row[f\"release-{i}\"] for i in range(12)]\n",
    "    release_press_time = [row[f\"press-{i+1}\"] - row[f\"release-{i}\"] for i in range(12)]\n",
    "\n",
    "    # Calculate the statistics for the row \n",
    "    Mean_HT.append(np.mean(hold_time))\n",
    "    Mean_PP.append(np.mean(press_press_time))\n",
    "    Mean_RR.append(np.mean(release_release_time))\n",
    "    Mean_RP.append(np.mean(release_press_time))\n",
    "    Std_HT.append(np.std(hold_time))\n",
    "    Std_PP.append(np.std(press_press_time))\n",
    "    Std_RR.append(np.std(release_release_time))\n",
    "    Std_RP.append(np.std(release_press_time))\n",
    "\n",
    "    # Add lists into the main list    \n",
    "    HT.append(hold_time)\n",
    "    PP.append(press_press_time)\n",
    "    RR.append(release_release_time)\n",
    "    RP.append(release_press_time)\n",
    "    \n",
    "# Add the lists as new columns in the DataFrame\n",
    "# Define the column names as variables\n",
    "column_vars = ['HoldTime', 'PressPressTime', 'ReleaseReleaseTime', 'ReleasePressTime', \n",
    "           'Mean_HT', 'Mean_PP', 'Mean_RR', 'Mean_RP', 'Std_HT', 'Std_PP', 'Std_RR', 'Std_RP']\n",
    "\n",
    "# Define the lists of data as a dictionary\n",
    "data = {\n",
    "    'HoldTime': HT,\n",
    "    'PressPressTime': PP,\n",
    "    'ReleaseReleaseTime': RR,\n",
    "    'ReleasePressTime': RP,\n",
    "    'Mean_HT': Mean_HT,\n",
    "    'Mean_PP': Mean_PP,\n",
    "    'Mean_RR': Mean_RR,\n",
    "    'Mean_RP': Mean_RP,\n",
    "    'Std_HT': Std_HT,\n",
    "    'Std_PP': Std_PP,\n",
    "    'Std_RR': Std_RR,\n",
    "    'Std_RP': Std_RP\n",
    "}\n",
    "\n",
    "# Add the lists as new columns in the DataFrame\n",
    "for col in column_vars:\n",
    "    df[col] = data[col]\n"
   ]
  },
  {
   "cell_type": "code",
   "execution_count": 9,
   "id": "dbb3f6e1",
   "metadata": {
    "vscode": {
     "languageId": "python"
    }
   },
   "outputs": [
    {
     "name": "stdout",
     "output_type": "stream",
     "text": [
      "<class 'pandas.core.frame.DataFrame'>\n",
      "RangeIndex: 880 entries, 0 to 879\n",
      "Data columns (total 39 columns):\n",
      " #   Column              Non-Null Count  Dtype  \n",
      "---  ------              --------------  -----  \n",
      " 0   user                880 non-null    int64  \n",
      " 1   press-0             880 non-null    int64  \n",
      " 2   release-0           880 non-null    int64  \n",
      " 3   press-1             880 non-null    int64  \n",
      " 4   release-1           880 non-null    int64  \n",
      " 5   press-2             880 non-null    int64  \n",
      " 6   release-2           880 non-null    int64  \n",
      " 7   press-3             880 non-null    int64  \n",
      " 8   release-3           880 non-null    int64  \n",
      " 9   press-4             880 non-null    int64  \n",
      " 10  release-4           880 non-null    int64  \n",
      " 11  press-5             880 non-null    int64  \n",
      " 12  release-5           880 non-null    int64  \n",
      " 13  press-6             880 non-null    int64  \n",
      " 14  release-6           880 non-null    int64  \n",
      " 15  press-7             880 non-null    int64  \n",
      " 16  release-7           880 non-null    int64  \n",
      " 17  press-8             880 non-null    int64  \n",
      " 18  release-8           880 non-null    int64  \n",
      " 19  press-9             880 non-null    int64  \n",
      " 20  release-9           880 non-null    int64  \n",
      " 21  press-10            880 non-null    int64  \n",
      " 22  release-10          880 non-null    int64  \n",
      " 23  press-11            880 non-null    int64  \n",
      " 24  release-11          880 non-null    int64  \n",
      " 25  press-12            880 non-null    int64  \n",
      " 26  release-12          880 non-null    int64  \n",
      " 27  HoldTime            880 non-null    object \n",
      " 28  PressPressTime      880 non-null    object \n",
      " 29  ReleaseReleaseTime  880 non-null    object \n",
      " 30  ReleasePressTime    880 non-null    object \n",
      " 31  Mean_HT             880 non-null    float64\n",
      " 32  Mean_PP             880 non-null    float64\n",
      " 33  Mean_RR             880 non-null    float64\n",
      " 34  Mean_RP             880 non-null    float64\n",
      " 35  Std_HT              880 non-null    float64\n",
      " 36  Std_PP              880 non-null    float64\n",
      " 37  Std_RR              880 non-null    float64\n",
      " 38  Std_RP              880 non-null    float64\n",
      "dtypes: float64(8), int64(27), object(4)\n",
      "memory usage: 268.2+ KB\n"
     ]
    }
   ],
   "source": [
    "df.info()"
   ]
  },
  {
   "cell_type": "code",
   "execution_count": 10,
   "id": "93dffb30",
   "metadata": {
    "vscode": {
     "languageId": "python"
    }
   },
   "outputs": [],
   "source": [
    "# Drop the columns that we don't need anymore\n",
    "list_addedcolumns = ['HoldTime','PressPressTime','ReleaseReleaseTime','ReleasePressTime']\n",
    "df = df.drop(columns=columns)\n",
    "df = df.drop(columns=list_addedcolumns)"
   ]
  },
  {
   "cell_type": "code",
   "execution_count": 11,
   "id": "4fb408cd",
   "metadata": {
    "vscode": {
     "languageId": "python"
    }
   },
   "outputs": [
    {
     "data": {
      "text/html": [
       "<div>\n",
       "<style scoped>\n",
       "    .dataframe tbody tr th:only-of-type {\n",
       "        vertical-align: middle;\n",
       "    }\n",
       "\n",
       "    .dataframe tbody tr th {\n",
       "        vertical-align: top;\n",
       "    }\n",
       "\n",
       "    .dataframe thead th {\n",
       "        text-align: right;\n",
       "    }\n",
       "</style>\n",
       "<table border=\"1\" class=\"dataframe\">\n",
       "  <thead>\n",
       "    <tr style=\"text-align: right;\">\n",
       "      <th></th>\n",
       "      <th>user</th>\n",
       "      <th>Mean_HT</th>\n",
       "      <th>Mean_PP</th>\n",
       "      <th>Mean_RR</th>\n",
       "      <th>Mean_RP</th>\n",
       "      <th>Std_HT</th>\n",
       "      <th>Std_PP</th>\n",
       "      <th>Std_RR</th>\n",
       "      <th>Std_RP</th>\n",
       "    </tr>\n",
       "  </thead>\n",
       "  <tbody>\n",
       "    <tr>\n",
       "      <th>0</th>\n",
       "      <td>1</td>\n",
       "      <td>72.000000</td>\n",
       "      <td>297.333333</td>\n",
       "      <td>225.333333</td>\n",
       "      <td>157.333333</td>\n",
       "      <td>21.908902</td>\n",
       "      <td>67.158188</td>\n",
       "      <td>69.958718</td>\n",
       "      <td>65.019655</td>\n",
       "    </tr>\n",
       "    <tr>\n",
       "      <th>1</th>\n",
       "      <td>1</td>\n",
       "      <td>72.250000</td>\n",
       "      <td>254.250000</td>\n",
       "      <td>182.000000</td>\n",
       "      <td>113.666667</td>\n",
       "      <td>16.181909</td>\n",
       "      <td>32.723908</td>\n",
       "      <td>38.464269</td>\n",
       "      <td>44.548351</td>\n",
       "    </tr>\n",
       "    <tr>\n",
       "      <th>2</th>\n",
       "      <td>1</td>\n",
       "      <td>82.416667</td>\n",
       "      <td>320.333333</td>\n",
       "      <td>237.916667</td>\n",
       "      <td>156.833333</td>\n",
       "      <td>15.397285</td>\n",
       "      <td>141.502258</td>\n",
       "      <td>139.135700</td>\n",
       "      <td>127.846805</td>\n",
       "    </tr>\n",
       "    <tr>\n",
       "      <th>3</th>\n",
       "      <td>1</td>\n",
       "      <td>72.000000</td>\n",
       "      <td>402.000000</td>\n",
       "      <td>330.000000</td>\n",
       "      <td>259.916667</td>\n",
       "      <td>21.205345</td>\n",
       "      <td>344.290817</td>\n",
       "      <td>338.389568</td>\n",
       "      <td>347.130249</td>\n",
       "    </tr>\n",
       "    <tr>\n",
       "      <th>4</th>\n",
       "      <td>1</td>\n",
       "      <td>73.000000</td>\n",
       "      <td>249.000000</td>\n",
       "      <td>176.000000</td>\n",
       "      <td>100.833333</td>\n",
       "      <td>12.315302</td>\n",
       "      <td>37.975870</td>\n",
       "      <td>38.177218</td>\n",
       "      <td>45.586609</td>\n",
       "    </tr>\n",
       "    <tr>\n",
       "      <th>...</th>\n",
       "      <td>...</td>\n",
       "      <td>...</td>\n",
       "      <td>...</td>\n",
       "      <td>...</td>\n",
       "      <td>...</td>\n",
       "      <td>...</td>\n",
       "      <td>...</td>\n",
       "      <td>...</td>\n",
       "      <td>...</td>\n",
       "    </tr>\n",
       "    <tr>\n",
       "      <th>875</th>\n",
       "      <td>110</td>\n",
       "      <td>102.250000</td>\n",
       "      <td>304.250000</td>\n",
       "      <td>202.000000</td>\n",
       "      <td>88.083333</td>\n",
       "      <td>32.919409</td>\n",
       "      <td>103.163402</td>\n",
       "      <td>97.465378</td>\n",
       "      <td>86.111806</td>\n",
       "    </tr>\n",
       "    <tr>\n",
       "      <th>876</th>\n",
       "      <td>110</td>\n",
       "      <td>99.750000</td>\n",
       "      <td>318.333333</td>\n",
       "      <td>218.583333</td>\n",
       "      <td>113.666667</td>\n",
       "      <td>20.033826</td>\n",
       "      <td>114.392113</td>\n",
       "      <td>123.011828</td>\n",
       "      <td>120.459767</td>\n",
       "    </tr>\n",
       "    <tr>\n",
       "      <th>877</th>\n",
       "      <td>110</td>\n",
       "      <td>121.750000</td>\n",
       "      <td>319.250000</td>\n",
       "      <td>197.500000</td>\n",
       "      <td>70.166667</td>\n",
       "      <td>34.110421</td>\n",
       "      <td>59.420991</td>\n",
       "      <td>70.785474</td>\n",
       "      <td>63.806783</td>\n",
       "    </tr>\n",
       "    <tr>\n",
       "      <th>878</th>\n",
       "      <td>110</td>\n",
       "      <td>105.166667</td>\n",
       "      <td>291.416667</td>\n",
       "      <td>186.250000</td>\n",
       "      <td>76.000000</td>\n",
       "      <td>35.888330</td>\n",
       "      <td>91.230896</td>\n",
       "      <td>101.725222</td>\n",
       "      <td>85.815694</td>\n",
       "    </tr>\n",
       "    <tr>\n",
       "      <th>879</th>\n",
       "      <td>110</td>\n",
       "      <td>105.416667</td>\n",
       "      <td>296.583333</td>\n",
       "      <td>191.166667</td>\n",
       "      <td>77.833333</td>\n",
       "      <td>28.917867</td>\n",
       "      <td>55.118748</td>\n",
       "      <td>67.350864</td>\n",
       "      <td>68.079406</td>\n",
       "    </tr>\n",
       "  </tbody>\n",
       "</table>\n",
       "<p>880 rows × 9 columns</p>\n",
       "</div>"
      ],
      "text/plain": [
       "     user     Mean_HT     Mean_PP     Mean_RR     Mean_RP     Std_HT  \\\n",
       "0       1   72.000000  297.333333  225.333333  157.333333  21.908902   \n",
       "1       1   72.250000  254.250000  182.000000  113.666667  16.181909   \n",
       "2       1   82.416667  320.333333  237.916667  156.833333  15.397285   \n",
       "3       1   72.000000  402.000000  330.000000  259.916667  21.205345   \n",
       "4       1   73.000000  249.000000  176.000000  100.833333  12.315302   \n",
       "..    ...         ...         ...         ...         ...        ...   \n",
       "875   110  102.250000  304.250000  202.000000   88.083333  32.919409   \n",
       "876   110   99.750000  318.333333  218.583333  113.666667  20.033826   \n",
       "877   110  121.750000  319.250000  197.500000   70.166667  34.110421   \n",
       "878   110  105.166667  291.416667  186.250000   76.000000  35.888330   \n",
       "879   110  105.416667  296.583333  191.166667   77.833333  28.917867   \n",
       "\n",
       "         Std_PP      Std_RR      Std_RP  \n",
       "0     67.158188   69.958718   65.019655  \n",
       "1     32.723908   38.464269   44.548351  \n",
       "2    141.502258  139.135700  127.846805  \n",
       "3    344.290817  338.389568  347.130249  \n",
       "4     37.975870   38.177218   45.586609  \n",
       "..          ...         ...         ...  \n",
       "875  103.163402   97.465378   86.111806  \n",
       "876  114.392113  123.011828  120.459767  \n",
       "877   59.420991   70.785474   63.806783  \n",
       "878   91.230896  101.725222   85.815694  \n",
       "879   55.118748   67.350864   68.079406  \n",
       "\n",
       "[880 rows x 9 columns]"
      ]
     },
     "execution_count": 11,
     "metadata": {},
     "output_type": "execute_result"
    }
   ],
   "source": [
    "# Check the dataframe, we should have 8 features and an output class.\n",
    "df"
   ]
  },
  {
   "cell_type": "markdown",
   "id": "f1019de4",
   "metadata": {},
   "source": [
    "# Model Training"
   ]
  },
  {
   "cell_type": "code",
   "execution_count": 12,
   "id": "821e6299",
   "metadata": {
    "vscode": {
     "languageId": "python"
    }
   },
   "outputs": [
    {
     "data": {
      "text/html": [
       "<style>#sk-container-id-1 {color: black;background-color: white;}#sk-container-id-1 pre{padding: 0;}#sk-container-id-1 div.sk-toggleable {background-color: white;}#sk-container-id-1 label.sk-toggleable__label {cursor: pointer;display: block;width: 100%;margin-bottom: 0;padding: 0.3em;box-sizing: border-box;text-align: center;}#sk-container-id-1 label.sk-toggleable__label-arrow:before {content: \"▸\";float: left;margin-right: 0.25em;color: #696969;}#sk-container-id-1 label.sk-toggleable__label-arrow:hover:before {color: black;}#sk-container-id-1 div.sk-estimator:hover label.sk-toggleable__label-arrow:before {color: black;}#sk-container-id-1 div.sk-toggleable__content {max-height: 0;max-width: 0;overflow: hidden;text-align: left;background-color: #f0f8ff;}#sk-container-id-1 div.sk-toggleable__content pre {margin: 0.2em;color: black;border-radius: 0.25em;background-color: #f0f8ff;}#sk-container-id-1 input.sk-toggleable__control:checked~div.sk-toggleable__content {max-height: 200px;max-width: 100%;overflow: auto;}#sk-container-id-1 input.sk-toggleable__control:checked~label.sk-toggleable__label-arrow:before {content: \"▾\";}#sk-container-id-1 div.sk-estimator input.sk-toggleable__control:checked~label.sk-toggleable__label {background-color: #d4ebff;}#sk-container-id-1 div.sk-label input.sk-toggleable__control:checked~label.sk-toggleable__label {background-color: #d4ebff;}#sk-container-id-1 input.sk-hidden--visually {border: 0;clip: rect(1px 1px 1px 1px);clip: rect(1px, 1px, 1px, 1px);height: 1px;margin: -1px;overflow: hidden;padding: 0;position: absolute;width: 1px;}#sk-container-id-1 div.sk-estimator {font-family: monospace;background-color: #f0f8ff;border: 1px dotted black;border-radius: 0.25em;box-sizing: border-box;margin-bottom: 0.5em;}#sk-container-id-1 div.sk-estimator:hover {background-color: #d4ebff;}#sk-container-id-1 div.sk-parallel-item::after {content: \"\";width: 100%;border-bottom: 1px solid gray;flex-grow: 1;}#sk-container-id-1 div.sk-label:hover label.sk-toggleable__label {background-color: #d4ebff;}#sk-container-id-1 div.sk-serial::before {content: \"\";position: absolute;border-left: 1px solid gray;box-sizing: border-box;top: 0;bottom: 0;left: 50%;z-index: 0;}#sk-container-id-1 div.sk-serial {display: flex;flex-direction: column;align-items: center;background-color: white;padding-right: 0.2em;padding-left: 0.2em;position: relative;}#sk-container-id-1 div.sk-item {position: relative;z-index: 1;}#sk-container-id-1 div.sk-parallel {display: flex;align-items: stretch;justify-content: center;background-color: white;position: relative;}#sk-container-id-1 div.sk-item::before, #sk-container-id-1 div.sk-parallel-item::before {content: \"\";position: absolute;border-left: 1px solid gray;box-sizing: border-box;top: 0;bottom: 0;left: 50%;z-index: -1;}#sk-container-id-1 div.sk-parallel-item {display: flex;flex-direction: column;z-index: 1;position: relative;background-color: white;}#sk-container-id-1 div.sk-parallel-item:first-child::after {align-self: flex-end;width: 50%;}#sk-container-id-1 div.sk-parallel-item:last-child::after {align-self: flex-start;width: 50%;}#sk-container-id-1 div.sk-parallel-item:only-child::after {width: 0;}#sk-container-id-1 div.sk-dashed-wrapped {border: 1px dashed gray;margin: 0 0.4em 0.5em 0.4em;box-sizing: border-box;padding-bottom: 0.4em;background-color: white;}#sk-container-id-1 div.sk-label label {font-family: monospace;font-weight: bold;display: inline-block;line-height: 1.2em;}#sk-container-id-1 div.sk-label-container {text-align: center;}#sk-container-id-1 div.sk-container {/* jupyter's `normalize.less` sets `[hidden] { display: none; }` but bootstrap.min.css set `[hidden] { display: none !important; }` so we also need the `!important` here to be able to override the default hidden behavior on the sphinx rendered scikit-learn.org. See: https://github.com/scikit-learn/scikit-learn/issues/21755 */display: inline-block !important;position: relative;}#sk-container-id-1 div.sk-text-repr-fallback {display: none;}</style><div id=\"sk-container-id-1\" class=\"sk-top-container\"><div class=\"sk-text-repr-fallback\"><pre>SVC()</pre><b>In a Jupyter environment, please rerun this cell to show the HTML representation or trust the notebook. <br />On GitHub, the HTML representation is unable to render, please try loading this page with nbviewer.org.</b></div><div class=\"sk-container\" hidden><div class=\"sk-item\"><div class=\"sk-estimator sk-toggleable\"><input class=\"sk-toggleable__control sk-hidden--visually\" id=\"sk-estimator-id-1\" type=\"checkbox\" checked><label for=\"sk-estimator-id-1\" class=\"sk-toggleable__label sk-toggleable__label-arrow\">SVC</label><div class=\"sk-toggleable__content\"><pre>SVC()</pre></div></div></div></div></div>"
      ],
      "text/plain": [
       "SVC()"
      ]
     },
     "execution_count": 12,
     "metadata": {},
     "output_type": "execute_result"
    }
   ],
   "source": [
    "# Split the DataFrame into features and target\n",
    "features = df.drop(columns=['user'])\n",
    "# Start the user count from 0.\n",
    "target = df['user'] - 1\n",
    "\n",
    "# Train the SVM model\n",
    "svm_model = svm.SVC()\n",
    "svm_model.fit(features, target)\n"
   ]
  },
  {
   "cell_type": "code",
   "execution_count": 13,
   "id": "f03df1de",
   "metadata": {
    "vscode": {
     "languageId": "python"
    }
   },
   "outputs": [
    {
     "data": {
      "text/html": [
       "<style>#sk-container-id-2 {color: black;background-color: white;}#sk-container-id-2 pre{padding: 0;}#sk-container-id-2 div.sk-toggleable {background-color: white;}#sk-container-id-2 label.sk-toggleable__label {cursor: pointer;display: block;width: 100%;margin-bottom: 0;padding: 0.3em;box-sizing: border-box;text-align: center;}#sk-container-id-2 label.sk-toggleable__label-arrow:before {content: \"▸\";float: left;margin-right: 0.25em;color: #696969;}#sk-container-id-2 label.sk-toggleable__label-arrow:hover:before {color: black;}#sk-container-id-2 div.sk-estimator:hover label.sk-toggleable__label-arrow:before {color: black;}#sk-container-id-2 div.sk-toggleable__content {max-height: 0;max-width: 0;overflow: hidden;text-align: left;background-color: #f0f8ff;}#sk-container-id-2 div.sk-toggleable__content pre {margin: 0.2em;color: black;border-radius: 0.25em;background-color: #f0f8ff;}#sk-container-id-2 input.sk-toggleable__control:checked~div.sk-toggleable__content {max-height: 200px;max-width: 100%;overflow: auto;}#sk-container-id-2 input.sk-toggleable__control:checked~label.sk-toggleable__label-arrow:before {content: \"▾\";}#sk-container-id-2 div.sk-estimator input.sk-toggleable__control:checked~label.sk-toggleable__label {background-color: #d4ebff;}#sk-container-id-2 div.sk-label input.sk-toggleable__control:checked~label.sk-toggleable__label {background-color: #d4ebff;}#sk-container-id-2 input.sk-hidden--visually {border: 0;clip: rect(1px 1px 1px 1px);clip: rect(1px, 1px, 1px, 1px);height: 1px;margin: -1px;overflow: hidden;padding: 0;position: absolute;width: 1px;}#sk-container-id-2 div.sk-estimator {font-family: monospace;background-color: #f0f8ff;border: 1px dotted black;border-radius: 0.25em;box-sizing: border-box;margin-bottom: 0.5em;}#sk-container-id-2 div.sk-estimator:hover {background-color: #d4ebff;}#sk-container-id-2 div.sk-parallel-item::after {content: \"\";width: 100%;border-bottom: 1px solid gray;flex-grow: 1;}#sk-container-id-2 div.sk-label:hover label.sk-toggleable__label {background-color: #d4ebff;}#sk-container-id-2 div.sk-serial::before {content: \"\";position: absolute;border-left: 1px solid gray;box-sizing: border-box;top: 0;bottom: 0;left: 50%;z-index: 0;}#sk-container-id-2 div.sk-serial {display: flex;flex-direction: column;align-items: center;background-color: white;padding-right: 0.2em;padding-left: 0.2em;position: relative;}#sk-container-id-2 div.sk-item {position: relative;z-index: 1;}#sk-container-id-2 div.sk-parallel {display: flex;align-items: stretch;justify-content: center;background-color: white;position: relative;}#sk-container-id-2 div.sk-item::before, #sk-container-id-2 div.sk-parallel-item::before {content: \"\";position: absolute;border-left: 1px solid gray;box-sizing: border-box;top: 0;bottom: 0;left: 50%;z-index: -1;}#sk-container-id-2 div.sk-parallel-item {display: flex;flex-direction: column;z-index: 1;position: relative;background-color: white;}#sk-container-id-2 div.sk-parallel-item:first-child::after {align-self: flex-end;width: 50%;}#sk-container-id-2 div.sk-parallel-item:last-child::after {align-self: flex-start;width: 50%;}#sk-container-id-2 div.sk-parallel-item:only-child::after {width: 0;}#sk-container-id-2 div.sk-dashed-wrapped {border: 1px dashed gray;margin: 0 0.4em 0.5em 0.4em;box-sizing: border-box;padding-bottom: 0.4em;background-color: white;}#sk-container-id-2 div.sk-label label {font-family: monospace;font-weight: bold;display: inline-block;line-height: 1.2em;}#sk-container-id-2 div.sk-label-container {text-align: center;}#sk-container-id-2 div.sk-container {/* jupyter's `normalize.less` sets `[hidden] { display: none; }` but bootstrap.min.css set `[hidden] { display: none !important; }` so we also need the `!important` here to be able to override the default hidden behavior on the sphinx rendered scikit-learn.org. See: https://github.com/scikit-learn/scikit-learn/issues/21755 */display: inline-block !important;position: relative;}#sk-container-id-2 div.sk-text-repr-fallback {display: none;}</style><div id=\"sk-container-id-2\" class=\"sk-top-container\"><div class=\"sk-text-repr-fallback\"><pre>RandomForestClassifier()</pre><b>In a Jupyter environment, please rerun this cell to show the HTML representation or trust the notebook. <br />On GitHub, the HTML representation is unable to render, please try loading this page with nbviewer.org.</b></div><div class=\"sk-container\" hidden><div class=\"sk-item\"><div class=\"sk-estimator sk-toggleable\"><input class=\"sk-toggleable__control sk-hidden--visually\" id=\"sk-estimator-id-2\" type=\"checkbox\" checked><label for=\"sk-estimator-id-2\" class=\"sk-toggleable__label sk-toggleable__label-arrow\">RandomForestClassifier</label><div class=\"sk-toggleable__content\"><pre>RandomForestClassifier()</pre></div></div></div></div></div>"
      ],
      "text/plain": [
       "RandomForestClassifier()"
      ]
     },
     "execution_count": 13,
     "metadata": {},
     "output_type": "execute_result"
    }
   ],
   "source": [
    "# Train the Random Forest model\n",
    "rf_model = RandomForestClassifier()\n",
    "rf_model.fit(features, target)"
   ]
  },
  {
   "cell_type": "code",
   "execution_count": 14,
   "id": "907ffbf0",
   "metadata": {
    "vscode": {
     "languageId": "python"
    }
   },
   "outputs": [
    {
     "data": {
      "text/html": [
       "<style>#sk-container-id-3 {color: black;background-color: white;}#sk-container-id-3 pre{padding: 0;}#sk-container-id-3 div.sk-toggleable {background-color: white;}#sk-container-id-3 label.sk-toggleable__label {cursor: pointer;display: block;width: 100%;margin-bottom: 0;padding: 0.3em;box-sizing: border-box;text-align: center;}#sk-container-id-3 label.sk-toggleable__label-arrow:before {content: \"▸\";float: left;margin-right: 0.25em;color: #696969;}#sk-container-id-3 label.sk-toggleable__label-arrow:hover:before {color: black;}#sk-container-id-3 div.sk-estimator:hover label.sk-toggleable__label-arrow:before {color: black;}#sk-container-id-3 div.sk-toggleable__content {max-height: 0;max-width: 0;overflow: hidden;text-align: left;background-color: #f0f8ff;}#sk-container-id-3 div.sk-toggleable__content pre {margin: 0.2em;color: black;border-radius: 0.25em;background-color: #f0f8ff;}#sk-container-id-3 input.sk-toggleable__control:checked~div.sk-toggleable__content {max-height: 200px;max-width: 100%;overflow: auto;}#sk-container-id-3 input.sk-toggleable__control:checked~label.sk-toggleable__label-arrow:before {content: \"▾\";}#sk-container-id-3 div.sk-estimator input.sk-toggleable__control:checked~label.sk-toggleable__label {background-color: #d4ebff;}#sk-container-id-3 div.sk-label input.sk-toggleable__control:checked~label.sk-toggleable__label {background-color: #d4ebff;}#sk-container-id-3 input.sk-hidden--visually {border: 0;clip: rect(1px 1px 1px 1px);clip: rect(1px, 1px, 1px, 1px);height: 1px;margin: -1px;overflow: hidden;padding: 0;position: absolute;width: 1px;}#sk-container-id-3 div.sk-estimator {font-family: monospace;background-color: #f0f8ff;border: 1px dotted black;border-radius: 0.25em;box-sizing: border-box;margin-bottom: 0.5em;}#sk-container-id-3 div.sk-estimator:hover {background-color: #d4ebff;}#sk-container-id-3 div.sk-parallel-item::after {content: \"\";width: 100%;border-bottom: 1px solid gray;flex-grow: 1;}#sk-container-id-3 div.sk-label:hover label.sk-toggleable__label {background-color: #d4ebff;}#sk-container-id-3 div.sk-serial::before {content: \"\";position: absolute;border-left: 1px solid gray;box-sizing: border-box;top: 0;bottom: 0;left: 50%;z-index: 0;}#sk-container-id-3 div.sk-serial {display: flex;flex-direction: column;align-items: center;background-color: white;padding-right: 0.2em;padding-left: 0.2em;position: relative;}#sk-container-id-3 div.sk-item {position: relative;z-index: 1;}#sk-container-id-3 div.sk-parallel {display: flex;align-items: stretch;justify-content: center;background-color: white;position: relative;}#sk-container-id-3 div.sk-item::before, #sk-container-id-3 div.sk-parallel-item::before {content: \"\";position: absolute;border-left: 1px solid gray;box-sizing: border-box;top: 0;bottom: 0;left: 50%;z-index: -1;}#sk-container-id-3 div.sk-parallel-item {display: flex;flex-direction: column;z-index: 1;position: relative;background-color: white;}#sk-container-id-3 div.sk-parallel-item:first-child::after {align-self: flex-end;width: 50%;}#sk-container-id-3 div.sk-parallel-item:last-child::after {align-self: flex-start;width: 50%;}#sk-container-id-3 div.sk-parallel-item:only-child::after {width: 0;}#sk-container-id-3 div.sk-dashed-wrapped {border: 1px dashed gray;margin: 0 0.4em 0.5em 0.4em;box-sizing: border-box;padding-bottom: 0.4em;background-color: white;}#sk-container-id-3 div.sk-label label {font-family: monospace;font-weight: bold;display: inline-block;line-height: 1.2em;}#sk-container-id-3 div.sk-label-container {text-align: center;}#sk-container-id-3 div.sk-container {/* jupyter's `normalize.less` sets `[hidden] { display: none; }` but bootstrap.min.css set `[hidden] { display: none !important; }` so we also need the `!important` here to be able to override the default hidden behavior on the sphinx rendered scikit-learn.org. See: https://github.com/scikit-learn/scikit-learn/issues/21755 */display: inline-block !important;position: relative;}#sk-container-id-3 div.sk-text-repr-fallback {display: none;}</style><div id=\"sk-container-id-3\" class=\"sk-top-container\"><div class=\"sk-text-repr-fallback\"><pre>XGBClassifier(base_score=None, booster=None, callbacks=None,\n",
       "              colsample_bylevel=None, colsample_bynode=None,\n",
       "              colsample_bytree=None, early_stopping_rounds=None,\n",
       "              enable_categorical=False, eval_metric=None, feature_types=None,\n",
       "              gamma=None, gpu_id=None, grow_policy=None, importance_type=None,\n",
       "              interaction_constraints=None, learning_rate=None, max_bin=None,\n",
       "              max_cat_threshold=None, max_cat_to_onehot=None,\n",
       "              max_delta_step=None, max_depth=None, max_leaves=None,\n",
       "              min_child_weight=None, missing=nan, monotone_constraints=None,\n",
       "              n_estimators=100, n_jobs=None, num_parallel_tree=None,\n",
       "              objective=&#x27;multi:softprob&#x27;, predictor=None, ...)</pre><b>In a Jupyter environment, please rerun this cell to show the HTML representation or trust the notebook. <br />On GitHub, the HTML representation is unable to render, please try loading this page with nbviewer.org.</b></div><div class=\"sk-container\" hidden><div class=\"sk-item\"><div class=\"sk-estimator sk-toggleable\"><input class=\"sk-toggleable__control sk-hidden--visually\" id=\"sk-estimator-id-3\" type=\"checkbox\" checked><label for=\"sk-estimator-id-3\" class=\"sk-toggleable__label sk-toggleable__label-arrow\">XGBClassifier</label><div class=\"sk-toggleable__content\"><pre>XGBClassifier(base_score=None, booster=None, callbacks=None,\n",
       "              colsample_bylevel=None, colsample_bynode=None,\n",
       "              colsample_bytree=None, early_stopping_rounds=None,\n",
       "              enable_categorical=False, eval_metric=None, feature_types=None,\n",
       "              gamma=None, gpu_id=None, grow_policy=None, importance_type=None,\n",
       "              interaction_constraints=None, learning_rate=None, max_bin=None,\n",
       "              max_cat_threshold=None, max_cat_to_onehot=None,\n",
       "              max_delta_step=None, max_depth=None, max_leaves=None,\n",
       "              min_child_weight=None, missing=nan, monotone_constraints=None,\n",
       "              n_estimators=100, n_jobs=None, num_parallel_tree=None,\n",
       "              objective=&#x27;multi:softprob&#x27;, predictor=None, ...)</pre></div></div></div></div></div>"
      ],
      "text/plain": [
       "XGBClassifier(base_score=None, booster=None, callbacks=None,\n",
       "              colsample_bylevel=None, colsample_bynode=None,\n",
       "              colsample_bytree=None, early_stopping_rounds=None,\n",
       "              enable_categorical=False, eval_metric=None, feature_types=None,\n",
       "              gamma=None, gpu_id=None, grow_policy=None, importance_type=None,\n",
       "              interaction_constraints=None, learning_rate=None, max_bin=None,\n",
       "              max_cat_threshold=None, max_cat_to_onehot=None,\n",
       "              max_delta_step=None, max_depth=None, max_leaves=None,\n",
       "              min_child_weight=None, missing=nan, monotone_constraints=None,\n",
       "              n_estimators=100, n_jobs=None, num_parallel_tree=None,\n",
       "              objective='multi:softprob', predictor=None, ...)"
      ]
     },
     "execution_count": 14,
     "metadata": {},
     "output_type": "execute_result"
    }
   ],
   "source": [
    "# Train the XGBoost model\n",
    "xgb_model = xgb.XGBClassifier()\n",
    "xgb_model.fit(features, target)"
   ]
  },
  {
   "cell_type": "code",
   "execution_count": 15,
   "id": "fec7b1c3",
   "metadata": {
    "vscode": {
     "languageId": "python"
    }
   },
   "outputs": [
    {
     "data": {
      "text/html": [
       "<div>\n",
       "<style scoped>\n",
       "    .dataframe tbody tr th:only-of-type {\n",
       "        vertical-align: middle;\n",
       "    }\n",
       "\n",
       "    .dataframe tbody tr th {\n",
       "        vertical-align: top;\n",
       "    }\n",
       "\n",
       "    .dataframe thead th {\n",
       "        text-align: right;\n",
       "    }\n",
       "</style>\n",
       "<table border=\"1\" class=\"dataframe\">\n",
       "  <thead>\n",
       "    <tr style=\"text-align: right;\">\n",
       "      <th></th>\n",
       "      <th>Mean_HT</th>\n",
       "      <th>Mean_PP</th>\n",
       "      <th>Mean_RR</th>\n",
       "      <th>Mean_RP</th>\n",
       "      <th>Std_HT</th>\n",
       "      <th>Std_PP</th>\n",
       "      <th>Std_RR</th>\n",
       "      <th>Std_RP</th>\n",
       "    </tr>\n",
       "  </thead>\n",
       "  <tbody>\n",
       "    <tr>\n",
       "      <th>0</th>\n",
       "      <td>72.000000</td>\n",
       "      <td>297.333333</td>\n",
       "      <td>225.333333</td>\n",
       "      <td>157.333333</td>\n",
       "      <td>21.908902</td>\n",
       "      <td>67.158188</td>\n",
       "      <td>69.958718</td>\n",
       "      <td>65.019655</td>\n",
       "    </tr>\n",
       "    <tr>\n",
       "      <th>1</th>\n",
       "      <td>72.250000</td>\n",
       "      <td>254.250000</td>\n",
       "      <td>182.000000</td>\n",
       "      <td>113.666667</td>\n",
       "      <td>16.181909</td>\n",
       "      <td>32.723908</td>\n",
       "      <td>38.464269</td>\n",
       "      <td>44.548351</td>\n",
       "    </tr>\n",
       "    <tr>\n",
       "      <th>2</th>\n",
       "      <td>82.416667</td>\n",
       "      <td>320.333333</td>\n",
       "      <td>237.916667</td>\n",
       "      <td>156.833333</td>\n",
       "      <td>15.397285</td>\n",
       "      <td>141.502258</td>\n",
       "      <td>139.135700</td>\n",
       "      <td>127.846805</td>\n",
       "    </tr>\n",
       "    <tr>\n",
       "      <th>3</th>\n",
       "      <td>72.000000</td>\n",
       "      <td>402.000000</td>\n",
       "      <td>330.000000</td>\n",
       "      <td>259.916667</td>\n",
       "      <td>21.205345</td>\n",
       "      <td>344.290817</td>\n",
       "      <td>338.389568</td>\n",
       "      <td>347.130249</td>\n",
       "    </tr>\n",
       "    <tr>\n",
       "      <th>4</th>\n",
       "      <td>73.000000</td>\n",
       "      <td>249.000000</td>\n",
       "      <td>176.000000</td>\n",
       "      <td>100.833333</td>\n",
       "      <td>12.315302</td>\n",
       "      <td>37.975870</td>\n",
       "      <td>38.177218</td>\n",
       "      <td>45.586609</td>\n",
       "    </tr>\n",
       "    <tr>\n",
       "      <th>...</th>\n",
       "      <td>...</td>\n",
       "      <td>...</td>\n",
       "      <td>...</td>\n",
       "      <td>...</td>\n",
       "      <td>...</td>\n",
       "      <td>...</td>\n",
       "      <td>...</td>\n",
       "      <td>...</td>\n",
       "    </tr>\n",
       "    <tr>\n",
       "      <th>875</th>\n",
       "      <td>102.250000</td>\n",
       "      <td>304.250000</td>\n",
       "      <td>202.000000</td>\n",
       "      <td>88.083333</td>\n",
       "      <td>32.919409</td>\n",
       "      <td>103.163402</td>\n",
       "      <td>97.465378</td>\n",
       "      <td>86.111806</td>\n",
       "    </tr>\n",
       "    <tr>\n",
       "      <th>876</th>\n",
       "      <td>99.750000</td>\n",
       "      <td>318.333333</td>\n",
       "      <td>218.583333</td>\n",
       "      <td>113.666667</td>\n",
       "      <td>20.033826</td>\n",
       "      <td>114.392113</td>\n",
       "      <td>123.011828</td>\n",
       "      <td>120.459767</td>\n",
       "    </tr>\n",
       "    <tr>\n",
       "      <th>877</th>\n",
       "      <td>121.750000</td>\n",
       "      <td>319.250000</td>\n",
       "      <td>197.500000</td>\n",
       "      <td>70.166667</td>\n",
       "      <td>34.110421</td>\n",
       "      <td>59.420991</td>\n",
       "      <td>70.785474</td>\n",
       "      <td>63.806783</td>\n",
       "    </tr>\n",
       "    <tr>\n",
       "      <th>878</th>\n",
       "      <td>105.166667</td>\n",
       "      <td>291.416667</td>\n",
       "      <td>186.250000</td>\n",
       "      <td>76.000000</td>\n",
       "      <td>35.888330</td>\n",
       "      <td>91.230896</td>\n",
       "      <td>101.725222</td>\n",
       "      <td>85.815694</td>\n",
       "    </tr>\n",
       "    <tr>\n",
       "      <th>879</th>\n",
       "      <td>105.416667</td>\n",
       "      <td>296.583333</td>\n",
       "      <td>191.166667</td>\n",
       "      <td>77.833333</td>\n",
       "      <td>28.917867</td>\n",
       "      <td>55.118748</td>\n",
       "      <td>67.350864</td>\n",
       "      <td>68.079406</td>\n",
       "    </tr>\n",
       "  </tbody>\n",
       "</table>\n",
       "<p>880 rows × 8 columns</p>\n",
       "</div>"
      ],
      "text/plain": [
       "        Mean_HT     Mean_PP     Mean_RR     Mean_RP     Std_HT      Std_PP  \\\n",
       "0     72.000000  297.333333  225.333333  157.333333  21.908902   67.158188   \n",
       "1     72.250000  254.250000  182.000000  113.666667  16.181909   32.723908   \n",
       "2     82.416667  320.333333  237.916667  156.833333  15.397285  141.502258   \n",
       "3     72.000000  402.000000  330.000000  259.916667  21.205345  344.290817   \n",
       "4     73.000000  249.000000  176.000000  100.833333  12.315302   37.975870   \n",
       "..          ...         ...         ...         ...        ...         ...   \n",
       "875  102.250000  304.250000  202.000000   88.083333  32.919409  103.163402   \n",
       "876   99.750000  318.333333  218.583333  113.666667  20.033826  114.392113   \n",
       "877  121.750000  319.250000  197.500000   70.166667  34.110421   59.420991   \n",
       "878  105.166667  291.416667  186.250000   76.000000  35.888330   91.230896   \n",
       "879  105.416667  296.583333  191.166667   77.833333  28.917867   55.118748   \n",
       "\n",
       "         Std_RR      Std_RP  \n",
       "0     69.958718   65.019655  \n",
       "1     38.464269   44.548351  \n",
       "2    139.135700  127.846805  \n",
       "3    338.389568  347.130249  \n",
       "4     38.177218   45.586609  \n",
       "..          ...         ...  \n",
       "875   97.465378   86.111806  \n",
       "876  123.011828  120.459767  \n",
       "877   70.785474   63.806783  \n",
       "878  101.725222   85.815694  \n",
       "879   67.350864   68.079406  \n",
       "\n",
       "[880 rows x 8 columns]"
      ]
     },
     "execution_count": 15,
     "metadata": {},
     "output_type": "execute_result"
    }
   ],
   "source": [
    "# Check the features\n",
    "features"
   ]
  },
  {
   "cell_type": "code",
   "execution_count": 17,
   "id": "336b3d4d",
   "metadata": {
    "vscode": {
     "languageId": "python"
    }
   },
   "outputs": [],
   "source": [
    "# Store the models using pickle\n",
    "with open('../models/svm.pkl', 'wb') as f:\n",
    "    pickle.dump(svm_model, f)\n",
    "    \n",
    "with open('../models/rf.pkl', 'wb') as f:\n",
    "    pickle.dump(rf_model, f)\n",
    "    \n",
    "xgb_model.save_model('../models/xgb.json')"
   ]
  },
  {
   "cell_type": "code",
   "execution_count": 18,
   "id": "d92282de",
   "metadata": {
    "vscode": {
     "languageId": "python"
    }
   },
   "outputs": [
    {
     "name": "stdout",
     "output_type": "stream",
     "text": [
      "SVM Inputs: ['Mean_HT' 'Mean_PP' 'Mean_RR' 'Mean_RP' 'Std_HT' 'Std_PP' 'Std_RR'\n",
      " 'Std_RP']\n",
      "RF Inputs: ['Mean_HT' 'Mean_PP' 'Mean_RR' 'Mean_RP' 'Std_HT' 'Std_PP' 'Std_RR'\n",
      " 'Std_RP']\n"
     ]
    }
   ],
   "source": [
    "# Load the model from the .pkl file\n",
    "with open('../models/svm.pkl', 'rb') as f:\n",
    "    svm = pickle.load(f)\n",
    "with open('../models/rf.pkl', 'rb') as f:\n",
    "    rf = pickle.load(f)"
   ]
  },
  {
   "cell_type": "markdown",
   "id": "d3f5b4f3",
   "metadata": {},
   "source": [
    "# Model Testing "
   ]
  },
  {
   "cell_type": "code",
   "execution_count": 68,
   "id": "9466f5dc",
   "metadata": {
    "vscode": {
     "languageId": "python"
    }
   },
   "outputs": [],
   "source": [
    "Test_Input ={\n",
    "            \"Model\": \"RF\",\n",
    "            \"HT\": {\n",
    "                \"Mean\": 48.43,\n",
    "                \"STD\": 23.34\n",
    "            }, \n",
    "            \"PPT\": {\n",
    "                \"Mean\": 120.43, \n",
    "                \"STD\": 37.41\n",
    "            },\n",
    "            \"RRT\": {\n",
    "                \"Mean\": 124.43,\n",
    "                \"STD\": 45.34\n",
    "            }, \n",
    "            \"RPT\": {\n",
    "                \"Mean\": 132.56, \n",
    "                \"STD\": 47.12\n",
    "            }\n",
    "            }"
   ]
  },
  {
   "cell_type": "code",
   "execution_count": 63,
   "id": "e893ff8a",
   "metadata": {
    "vscode": {
     "languageId": "python"
    }
   },
   "outputs": [
    {
     "data": {
      "text/plain": [
       "'RF'"
      ]
     },
     "execution_count": 63,
     "metadata": {},
     "output_type": "execute_result"
    }
   ],
   "source": [
    "Test_Input[\"Model\"]"
   ]
  },
  {
   "cell_type": "code",
   "execution_count": 64,
   "id": "e51a40c7",
   "metadata": {
    "vscode": {
     "languageId": "python"
    }
   },
   "outputs": [],
   "source": [
    "feature_names = ['Mean_HT', 'Mean_PP', 'Mean_RR', 'Mean_RP', 'Std_HT', 'Std_PP', 'Std_RR', 'Std_RP']"
   ]
  },
  {
   "cell_type": "code",
   "execution_count": 65,
   "id": "638e9510",
   "metadata": {
    "vscode": {
     "languageId": "python"
    }
   },
   "outputs": [],
   "source": [
    "# ------------------------------------------------------------------------------------------------------------- #\n",
    "# Extract features from the input.\n",
    "def extract_features(input_dict):\n",
    "    model_name = input_dict['Model']\n",
    "    if model_name == 'SVM':\n",
    "        feature_names = ['Mean_HT', 'Mean_PP', 'Mean_RR', 'Mean_RP', 'Std_HT', 'Std_PP', 'Std_RR', 'Std_RP']\n",
    "        feature_values = [input_dict['HT']['Mean'], input_dict['PPT']['Mean'], input_dict['RRT']['Mean'], input_dict['RPT']['Mean'], input_dict['HT']['STD'], input_dict['PPT']['STD'], input_dict['RRT']['STD'], input_dict['RPT']['STD']]\n",
    "    elif model_name == 'RF':\n",
    "        feature_names = ['Mean_HT', 'Mean_PP', 'Mean_RR', 'Mean_RP', 'Std_HT', 'Std_PP', 'Std_RR', 'Std_RP']\n",
    "        feature_values = [input_dict['HT']['Mean'], input_dict['PPT']['Mean'], input_dict['RRT']['Mean'], input_dict['RPT']['Mean'], input_dict['HT']['STD'], input_dict['PPT']['STD'], input_dict['RRT']['STD'], input_dict['RPT']['STD']]\n",
    "    elif model_name == 'XGB':\n",
    "        feature_names = ['Mean_HT', 'Mean_PP', 'Mean_RR', 'Mean_RP', 'Std_HT', 'Std_PP', 'Std_RR', 'Std_RP']\n",
    "        feature_values = [input_dict['HT']['Mean'], input_dict['PPT']['Mean'], input_dict['RRT']['Mean'], input_dict['RPT']['Mean'], input_dict['HT']['STD'], input_dict['PPT']['STD'], input_dict['RRT']['STD'], input_dict['RPT']['STD']]\n",
    "    else:\n",
    "        raise ValueError('Invalid model name: {}'.format(model_name))\n",
    "    return  np.array(feature_values),  model_name\n",
    "# ------------------------------------------------------------------------------------------------------------- #\n",
    "# Predict the outputl\n",
    "def predict(feature_array,model_name):\n",
    "    # Load models\n",
    "    if model_name == 'SVM':\n",
    "        model = joblib.load('../models/svm.pkl')\n",
    "    elif model_name == 'RF':\n",
    "        model = joblib.load('../models/rf.pkl')\n",
    "    elif model_name == 'XGB':\n",
    "        # Load the model from the JSON file\n",
    "        model= xgb.Booster()\n",
    "        model.load_model('../models/xgb.json')\n",
    "    else:\n",
    "        raise ValueError('Invalid model name: {}'.format(model_name))\n",
    "    # Make predictions using the scikit-learn model\n",
    "    if model_name == 'SVM':\n",
    "        predictions = int(model.predict([feature_array]))\n",
    "    if model_name == 'RF':\n",
    "        proba = model.predict_proba([feature_array])\n",
    "        predictions = int(proba.argmax(axis=1))\n",
    "    if model_name == 'XGB':\n",
    "        dmat = xgb.DMatrix(features.reshape(1, -1), feature_names=feature_names)\n",
    "        predictions = model.predict(dmat)\n",
    "        predictions = int(predictions.argmax(axis=1)[0])\n",
    "        print(type(predictions))\n",
    "    return predictions\n",
    "# ------------------------------------------------------------------------------------------------------------- #\n"
   ]
  },
  {
   "cell_type": "code",
   "execution_count": 66,
   "id": "d7ca7211",
   "metadata": {
    "vscode": {
     "languageId": "python"
    }
   },
   "outputs": [
    {
     "name": "stderr",
     "output_type": "stream",
     "text": [
      "/Users/mert/opt/anaconda3/envs/threatfabric/lib/python3.10/site-packages/sklearn/base.py:420: UserWarning: X does not have valid feature names, but RandomForestClassifier was fitted with feature names\n",
      "  warnings.warn(\n"
     ]
    }
   ],
   "source": [
    "#  Extract the features, and the model to be called.\n",
    "features, model =  extract_features(Test_Input)\n",
    "# Call the correct model with the features.\n",
    "predictions = predict(features, model)"
   ]
  },
  {
   "cell_type": "code",
   "execution_count": 67,
   "id": "dfea45b4",
   "metadata": {
    "vscode": {
     "languageId": "python"
    }
   },
   "outputs": [
    {
     "name": "stdout",
     "output_type": "stream",
     "text": [
      "------------------------------------------------------------------------\n",
      "The model RF predicts that the user is 83\n",
      "------------------------------------------------------------------------\n"
     ]
    }
   ],
   "source": [
    "print(\"------------------------------------------------------------------------\")\n",
    "print(f\"The model {model}\" + f\" predicts that the user is {predictions}\")\n",
    "print(\"------------------------------------------------------------------------\")"
   ]
  },
  {
   "cell_type": "code",
   "execution_count": null,
   "id": "57e1d226",
   "metadata": {
    "vscode": {
     "languageId": "python"
    }
   },
   "outputs": [],
   "source": []
  }
 ],
 "metadata": {
  "kernelspec": {
   "display_name": "threatfabric",
   "language": "python",
   "name": "threatfabric"
  }
 },
 "nbformat": 4,
 "nbformat_minor": 5
}
